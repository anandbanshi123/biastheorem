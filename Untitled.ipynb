{
 "cells": [
  {
   "cell_type": "code",
   "execution_count": 1,
   "id": "9c124a50-5a59-4edc-850b-b326e13aa54c",
   "metadata": {},
   "outputs": [],
   "source": [
    "import numpy as np\n",
    "import pandas as pd\n",
    "import matplotlib.pyplot as plt\n",
    "from sklearn import linear_model\n",
    "\n",
    "## Step1: Importing Necessary Libraries\n",
    "from sklearn.pipeline import make_pipeline\n",
    "from sklearn.metrics import r2_score, mean_squared_error\n",
    "from sklearn.preprocessing import PolynomialFeatures\n"
   ]
  },
  {
   "cell_type": "code",
   "execution_count": 2,
   "id": "a240019c-5b04-4a34-89ab-339682325f18",
   "metadata": {},
   "outputs": [],
   "source": [
    "#https://drive.google.com/file/d/1eE2GQm7Kg1Dtco9zKOm33QWAsLr1_-jH/view?usp=sharing\n",
    "train_data=pd.read_csv(\"train_ar.csv\")\n",
    "#https://drive.google.com/file/d/1uC-sfDRgU9ynYmvB6jCykJSEvQbGtfSJ/view?usp=sharing\n",
    "test_data=pd.read_csv(\"test_ar.csv\")"
   ]
  },
  {
   "cell_type": "code",
   "execution_count": 3,
   "id": "e3197141-dd90-45ba-aebe-24198c9613f6",
   "metadata": {},
   "outputs": [
    {
     "data": {
      "text/html": [
       "<div>\n",
       "<style scoped>\n",
       "    .dataframe tbody tr th:only-of-type {\n",
       "        vertical-align: middle;\n",
       "    }\n",
       "\n",
       "    .dataframe tbody tr th {\n",
       "        vertical-align: top;\n",
       "    }\n",
       "\n",
       "    .dataframe thead th {\n",
       "        text-align: right;\n",
       "    }\n",
       "</style>\n",
       "<table border=\"1\" class=\"dataframe\">\n",
       "  <thead>\n",
       "    <tr style=\"text-align: right;\">\n",
       "      <th></th>\n",
       "      <th>x</th>\n",
       "      <th>y</th>\n",
       "    </tr>\n",
       "  </thead>\n",
       "  <tbody>\n",
       "    <tr>\n",
       "      <th>0</th>\n",
       "      <td>-3.000000</td>\n",
       "      <td>9.496714</td>\n",
       "    </tr>\n",
       "    <tr>\n",
       "      <th>1</th>\n",
       "      <td>-2.993994</td>\n",
       "      <td>8.825736</td>\n",
       "    </tr>\n",
       "    <tr>\n",
       "      <th>2</th>\n",
       "      <td>-2.987988</td>\n",
       "      <td>9.575761</td>\n",
       "    </tr>\n",
       "    <tr>\n",
       "      <th>3</th>\n",
       "      <td>-2.981982</td>\n",
       "      <td>10.415246</td>\n",
       "    </tr>\n",
       "    <tr>\n",
       "      <th>4</th>\n",
       "      <td>-2.975976</td>\n",
       "      <td>8.622280</td>\n",
       "    </tr>\n",
       "  </tbody>\n",
       "</table>\n",
       "</div>"
      ],
      "text/plain": [
       "          x          y\n",
       "0 -3.000000   9.496714\n",
       "1 -2.993994   8.825736\n",
       "2 -2.987988   9.575761\n",
       "3 -2.981982  10.415246\n",
       "4 -2.975976   8.622280"
      ]
     },
     "execution_count": 3,
     "metadata": {},
     "output_type": "execute_result"
    }
   ],
   "source": [
    "train_data.head()"
   ]
  },
  {
   "cell_type": "code",
   "execution_count": 4,
   "id": "870b629b-d378-4498-aa1d-a0b54a20d8b2",
   "metadata": {},
   "outputs": [
    {
     "data": {
      "text/html": [
       "<div>\n",
       "<style scoped>\n",
       "    .dataframe tbody tr th:only-of-type {\n",
       "        vertical-align: middle;\n",
       "    }\n",
       "\n",
       "    .dataframe tbody tr th {\n",
       "        vertical-align: top;\n",
       "    }\n",
       "\n",
       "    .dataframe thead th {\n",
       "        text-align: right;\n",
       "    }\n",
       "</style>\n",
       "<table border=\"1\" class=\"dataframe\">\n",
       "  <thead>\n",
       "    <tr style=\"text-align: right;\">\n",
       "      <th></th>\n",
       "      <th>x</th>\n",
       "      <th>y</th>\n",
       "    </tr>\n",
       "  </thead>\n",
       "  <tbody>\n",
       "    <tr>\n",
       "      <th>0</th>\n",
       "      <td>-3.000000</td>\n",
       "      <td>10.399355</td>\n",
       "    </tr>\n",
       "    <tr>\n",
       "      <th>1</th>\n",
       "      <td>-2.979933</td>\n",
       "      <td>9.804635</td>\n",
       "    </tr>\n",
       "    <tr>\n",
       "      <th>2</th>\n",
       "      <td>-2.959866</td>\n",
       "      <td>8.820438</td>\n",
       "    </tr>\n",
       "    <tr>\n",
       "      <th>3</th>\n",
       "      <td>-2.939799</td>\n",
       "      <td>7.995483</td>\n",
       "    </tr>\n",
       "    <tr>\n",
       "      <th>4</th>\n",
       "      <td>-2.919732</td>\n",
       "      <td>9.223061</td>\n",
       "    </tr>\n",
       "  </tbody>\n",
       "</table>\n",
       "</div>"
      ],
      "text/plain": [
       "          x          y\n",
       "0 -3.000000  10.399355\n",
       "1 -2.979933   9.804635\n",
       "2 -2.959866   8.820438\n",
       "3 -2.939799   7.995483\n",
       "4 -2.919732   9.223061"
      ]
     },
     "execution_count": 4,
     "metadata": {},
     "output_type": "execute_result"
    }
   ],
   "source": [
    "test_data.head()"
   ]
  },
  {
   "cell_type": "code",
   "execution_count": 5,
   "id": "53fbe8a5-794a-419a-a558-3afb3b956f41",
   "metadata": {},
   "outputs": [],
   "source": [
    "x_train=train_data[\"x\"]\n",
    "y_train=train_data[\"y\"]\n",
    "x_test=test_data[\"x\"]\n",
    "y_test=test_data[\"y\"]## Step2: Data Loading"
   ]
  },
  {
   "cell_type": "code",
   "execution_count": 6,
   "id": "bda588dd-2d27-4080-a8c8-8f2728d50132",
   "metadata": {},
   "outputs": [
    {
     "data": {
      "text/plain": [
       "(1000, 2)"
      ]
     },
     "execution_count": 6,
     "metadata": {},
     "output_type": "execute_result"
    }
   ],
   "source": [
    "train_data.shape"
   ]
  },
  {
   "cell_type": "code",
   "execution_count": 7,
   "id": "a1a4f606-7fa9-499a-89b9-0ed8f13a9a86",
   "metadata": {},
   "outputs": [
    {
     "data": {
      "text/plain": [
       "(300, 2)"
      ]
     },
     "execution_count": 7,
     "metadata": {},
     "output_type": "execute_result"
    }
   ],
   "source": [
    "test_data.shape"
   ]
  },
  {
   "cell_type": "markdown",
   "id": "c9996f21-0239-4357-ab1b-f9badc76c05f",
   "metadata": {},
   "source": [
    "Step 3 data processing & EDA"
   ]
  },
  {
   "cell_type": "code",
   "execution_count": 8,
   "id": "27a0410e-4061-401e-a2f1-49b4fd3411c3",
   "metadata": {},
   "outputs": [],
   "source": [
    "from matplotlib import pyplot as plt\n"
   ]
  },
  {
   "cell_type": "code",
   "execution_count": 9,
   "id": "71a3070b-1e0a-4089-876e-80f2f30b78b4",
   "metadata": {},
   "outputs": [
    {
     "data": {
      "image/png": "[encoded data removed]",
      "text/plain": [
       "<Figure size 600x400 with 1 Axes>"
      ]
     },
     "metadata": {},
     "output_type": "display_data"
    }
   ],
   "source": [
    "plt.figure(figsize=(6, 4))\n",
    "plt.scatter(x_train, y_train, color=\"blue\", label=\"Data\")\n",
    "plt.show()"
   ]
  },
  {
   "cell_type": "markdown",
   "id": "cbc6e8a3-4750-4834-b01c-f3d1e9ebc74d",
   "metadata": {},
   "source": [
    "Step 4 based model"
   ]
  },
  {
   "cell_type": "code",
   "execution_count": 10,
   "id": "5959fea7-52c8-4672-8eea-2b1043a90427",
   "metadata": {},
   "outputs": [],
   "source": [
    "x_train = np.array(x_train).reshape(-1, 1)\n",
    "x_test = np.array(x_test).reshape(-1, 1)"
   ]
  },
  {
   "cell_type": "code",
   "execution_count": 11,
   "id": "124d8e7c-2b5d-4715-a468-4faf16b446b3",
   "metadata": {},
   "outputs": [
    {
     "ename": "NameError",
     "evalue": "name 'LinearRegression' is not defined",
     "output_type": "error",
     "traceback": [
      "\u001b[0;31m---------------------------------------------------------------------------\u001b[0m",
      "\u001b[0;31mNameError\u001b[0m                                 Traceback (most recent call last)",
      "Cell \u001b[0;32mIn[11], line 1\u001b[0m\n\u001b[0;32m----> 1\u001b[0m linear_model\u001b[38;5;241m=\u001b[39m\u001b[43mLinearRegression\u001b[49m()\n\u001b[1;32m      2\u001b[0m linear_model\u001b[38;5;241m.\u001b[39mfit(x_train_data,y_train_data)\n",
      "\u001b[0;31mNameError\u001b[0m: name 'LinearRegression' is not defined"
     ]
    }
   ],
   "source": [
    "linear_model=LinearRegression()\n",
    "linear_model.fit(x_train_data,y_train_data)"
   ]
  },
  {
   "cell_type": "code",
   "execution_count": null,
   "id": "010b7fb4-6bff-42eb-bd02-b535a622cfbf",
   "metadata": {},
   "outputs": [],
   "source": [
    "y_pred_linear_train = linear_model.predict(x_train)\n",
    "y_pred_linear_test = linear_model.predict(x_test)"
   ]
  },
  {
   "cell_type": "code",
   "execution_count": null,
   "id": "3d711c93-2ffb-46f6-9947-7899e091f2b5",
   "metadata": {},
   "outputs": [],
   "source": [
    "Step visulaisation of results"
   ]
  },
  {
   "cell_type": "code",
   "execution_count": null,
   "id": "c8a0a7fd-0b30-4590-87d9-b2520c23f52e",
   "metadata": {},
   "outputs": [],
   "source": [
    "plt.figure(figsize=(10, 6))\n",
    "plt.scatter(x_train, y_train, color=\"blue\", label=\"Data\")\n",
    "plt.plot(x_train, y_pred_linear_train, color=\"red\", label=\"Linear Regression\", linewidth=2)\n",
    "plt.title(\"Linear Regression on Nonlinear Data\")\n",
    "plt.xlabel(\"X\")\n",
    "plt.ylabel(\"Y\")\n",
    "plt.legend()\n",
    "plt.show()"
   ]
  },
  {
   "cell_type": "code",
   "execution_count": null,
   "id": "9db3c23e-a897-43eb-9a91-149b7bbef6a6",
   "metadata": {},
   "outputs": [],
   "source": [
    "plt.figure(figsize=(10, 6))\n",
    "plt.scatter(x_test, y_test, color=\"blue\", label=\"Data\")\n",
    "plt.plot(x_test, y_pred_linear_test, color=\"red\", label=\"Linear Regression\", linewidth=2)\n",
    "plt.title(\"Linear Regression on Nonlinear Data\")\n",
    "plt.xlabel(\"X\")\n",
    "plt.ylabel(\"Y\")\n",
    "plt.legend()\n",
    "plt.show()"
   ]
  },
  {
   "cell_type": "markdown",
   "id": "987cf6c8-1660-4aaa-b115-872b08c016bf",
   "metadata": {},
   "source": [
    "Step 6 Evaluation \n"
   ]
  },
  {
   "cell_type": "code",
   "execution_count": null,
   "id": "25f9c938-db32-4212-8551-5dac73868880",
   "metadata": {},
   "outputs": [],
   "source": [
    "r2_linear_train = r2_score(y_train, y_pred_linear_train)\n",
    "r2_linear_test = r2_score(y_test, y_pred_linear_test)\n",
    "mse_linear_train = mean_squared_error(y_train, y_pred_linear_train)\n",
    "mse_linear_test = mean_squared_error(y_test, y_pred_linear_test)\n",
    "print(\"Train and Test Performance:\")\n",
    "print(f\"R-squared for Linear Regression (Train): {r2_linear_train:.5f}\")\n",
    "print(f\"R-squared for Linear Regression (Test): {r2_linear_test:.5f}\")\n",
    "print(f\"MSE for Linear Regression (Train): {mse_linear_train:.5f}\")\n",
    "print(f\"MSE for Linear Regression (Test): {mse_linear_test:.5f}\")"
   ]
  },
  {
   "cell_type": "markdown",
   "id": "6a27e703-79ba-4bbf-a616-59b56d88426d",
   "metadata": {},
   "source": [
    "ste7 7 experiments 2nd degree polynomial features"
   ]
  },
  {
   "cell_type": "code",
   "execution_count": null,
   "id": "27b2d6f2-1d2b-48fc-ba72-bd85d028fbce",
   "metadata": {},
   "outputs": [],
   "source": [
    "polynomial_model_deg2=make_pipeline(PolynomialFeatures(degree=2),LinearRegression())\n",
    "polynomial_model_deg2.fit(x_train,y_train)"
   ]
  },
  {
   "cell_type": "code",
   "execution_count": null,
   "id": "76d5df85-e9fc-4dca-9d3a-80128bcd17d7",
   "metadata": {},
   "outputs": [],
   "source": [
    "x_pred_poly_train=polynomial_model_deg2.predict(x_train)\n",
    "x_pred_poly_test=polynomial_model_deg2.predict(x_train)"
   ]
  },
  {
   "cell_type": "code",
   "execution_count": null,
   "id": "a3a8e96e-126a-4267-9b28-5dcc0ca8fd31",
   "metadata": {},
   "outputs": [],
   "source": [
    "plt.figure(figsize=(10, 6))\n",
    "plt.scatter(x_train, y_train, color=\"blue\", label=\"Data\")\n",
    "plt.plot(x_train, x_pred_poly_train, color=\"red\", label=\"Linear Regression\", linewidth=2)\n",
    "plt.title(\"Polynomial  Regression(degree 2) on Nonlinear Data\")\n",
    "plt.xlabel(\"X\")\n",
    "plt.ylabel(\"Y\")\n",
    "plt.legend()\n",
    "plt.show()"
   ]
  },
  {
   "cell_type": "code",
   "execution_count": null,
   "id": "436b2468-164d-41bb-9236-d768408ffc53",
   "metadata": {},
   "outputs": [],
   "source": [
    "plt.figure(figsize=(10, 6))\n",
    "plt.scatter(x_test, y_test, color=\"blue\", label=\"Data\")\n",
    "plt.plot(x_test, x_pred_poly_test, color=\"red\", label=\"Linear Regression\", linewidth=2)\n",
    "plt.title(\"Polynomial  Regression(degree 2) on Nonlinear Data\")\n",
    "plt.xlabel(\"X\")\n",
    "plt.ylabel(\"Y\")\n",
    "plt.legend()\n",
    "plt.show()"
   ]
  },
  {
   "cell_type": "code",
   "execution_count": null,
   "id": "1561f77b-978a-4135-9493-4c4cfed8b6e7",
   "metadata": {},
   "outputs": [],
   "source": []
  }
 ],
 "metadata": {
  "kernelspec": {
   "display_name": "Python 3 (ipykernel)",
   "language": "python",
   "name": "python3"
  },
  "language_info": {
   "codemirror_mode": {
    "name": "ipython",
    "version": 3
   },
   "file_extension": ".py",
   "mimetype": "text/x-python",
   "name": "python",
   "nbconvert_exporter": "python",
   "pygments_lexer": "ipython3",
   "version": "3.10.0"
  }
 },
 "nbformat": 4,
 "nbformat_minor": 5
}
